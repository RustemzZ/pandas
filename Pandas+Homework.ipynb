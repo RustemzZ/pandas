{
 "cells": [
  {
   "cell_type": "code",
   "execution_count": 1,
   "metadata": {},
   "outputs": [
    {
     "data": {
      "text/html": [
       "<div>\n",
       "<style>\n",
       "    .dataframe thead tr:only-child th {\n",
       "        text-align: right;\n",
       "    }\n",
       "\n",
       "    .dataframe thead th {\n",
       "        text-align: left;\n",
       "    }\n",
       "\n",
       "    .dataframe tbody tr th {\n",
       "        vertical-align: top;\n",
       "    }\n",
       "</style>\n",
       "<table border=\"1\" class=\"dataframe\">\n",
       "  <thead>\n",
       "    <tr style=\"text-align: right;\">\n",
       "      <th></th>\n",
       "      <th>Purchase ID</th>\n",
       "      <th>SN</th>\n",
       "      <th>Age</th>\n",
       "      <th>Gender</th>\n",
       "      <th>Item ID</th>\n",
       "      <th>Item Name</th>\n",
       "      <th>Price</th>\n",
       "    </tr>\n",
       "  </thead>\n",
       "  <tbody>\n",
       "    <tr>\n",
       "      <th>0</th>\n",
       "      <td>0</td>\n",
       "      <td>Lisim78</td>\n",
       "      <td>20</td>\n",
       "      <td>Male</td>\n",
       "      <td>108</td>\n",
       "      <td>Extraction, Quickblade Of Trembling Hands</td>\n",
       "      <td>3.53</td>\n",
       "    </tr>\n",
       "    <tr>\n",
       "      <th>1</th>\n",
       "      <td>1</td>\n",
       "      <td>Lisovynya38</td>\n",
       "      <td>40</td>\n",
       "      <td>Male</td>\n",
       "      <td>143</td>\n",
       "      <td>Frenzied Scimitar</td>\n",
       "      <td>1.56</td>\n",
       "    </tr>\n",
       "    <tr>\n",
       "      <th>2</th>\n",
       "      <td>2</td>\n",
       "      <td>Ithergue48</td>\n",
       "      <td>24</td>\n",
       "      <td>Male</td>\n",
       "      <td>92</td>\n",
       "      <td>Final Critic</td>\n",
       "      <td>4.88</td>\n",
       "    </tr>\n",
       "    <tr>\n",
       "      <th>3</th>\n",
       "      <td>3</td>\n",
       "      <td>Chamassasya86</td>\n",
       "      <td>24</td>\n",
       "      <td>Male</td>\n",
       "      <td>100</td>\n",
       "      <td>Blindscythe</td>\n",
       "      <td>3.27</td>\n",
       "    </tr>\n",
       "    <tr>\n",
       "      <th>4</th>\n",
       "      <td>4</td>\n",
       "      <td>Iskosia90</td>\n",
       "      <td>23</td>\n",
       "      <td>Male</td>\n",
       "      <td>131</td>\n",
       "      <td>Fury</td>\n",
       "      <td>1.44</td>\n",
       "    </tr>\n",
       "  </tbody>\n",
       "</table>\n",
       "</div>"
      ],
      "text/plain": [
       "   Purchase ID             SN  Age Gender  Item ID  \\\n",
       "0            0        Lisim78   20   Male      108   \n",
       "1            1    Lisovynya38   40   Male      143   \n",
       "2            2     Ithergue48   24   Male       92   \n",
       "3            3  Chamassasya86   24   Male      100   \n",
       "4            4      Iskosia90   23   Male      131   \n",
       "\n",
       "                                   Item Name  Price  \n",
       "0  Extraction, Quickblade Of Trembling Hands   3.53  \n",
       "1                          Frenzied Scimitar   1.56  \n",
       "2                               Final Critic   4.88  \n",
       "3                                Blindscythe   3.27  \n",
       "4                                       Fury   1.44  "
      ]
     },
     "execution_count": 1,
     "metadata": {},
     "output_type": "execute_result"
    }
   ],
   "source": [
    "import pandas as pd\n",
    "import numpy as np\n",
    "\n",
    "\n",
    "path = \"purchase_data.csv\"\n",
    "\n",
    "file = pd.read_csv(path)\n",
    "file.head()\n",
    "            \n"
   ]
  },
  {
   "cell_type": "code",
   "execution_count": 2,
   "metadata": {},
   "outputs": [
    {
     "data": {
      "text/plain": [
       "Purchase ID    780\n",
       "SN             780\n",
       "Age            780\n",
       "Gender         780\n",
       "Item ID        780\n",
       "Item Name      780\n",
       "Price          780\n",
       "dtype: int64"
      ]
     },
     "execution_count": 2,
     "metadata": {},
     "output_type": "execute_result"
    }
   ],
   "source": [
    "file.count()"
   ]
  },
  {
   "cell_type": "code",
   "execution_count": 3,
   "metadata": {
    "collapsed": true
   },
   "outputs": [],
   "source": [
    "average = file[\"Price\"].mean()\n",
    "total_revenue = file[\"Price\"].sum()\n",
    "unique_items = file[\"Item Name\"].nunique()\n",
    "number_purchases = file[\"Purchase ID\"].count()\n",
    "\n"
   ]
  },
  {
   "cell_type": "code",
   "execution_count": 4,
   "metadata": {},
   "outputs": [
    {
     "name": "stdout",
     "output_type": "stream",
     "text": [
      "   Average Price  Number of Purchases  Number of Unique Items  Total Revenue\n",
      "0       3.050987                  780                     179        2379.77\n"
     ]
    }
   ],
   "source": [
    "list = [{\"Average Price\": average ,\"Total Revenue\": total_revenue,\"Number of Unique Items\": unique_items ,\"Number of Purchases\": number_purchases}]\n",
    "graph = pd.DataFrame(list)\n",
    "print(graph)\n"
   ]
  },
  {
   "cell_type": "code",
   "execution_count": 5,
   "metadata": {},
   "outputs": [
    {
     "name": "stdout",
     "output_type": "stream",
     "text": [
      "<bound method Series.round of Male                     0.835897\n",
      "Female                   0.144872\n",
      "Other / Non-Disclosed    0.019231\n",
      "Name: Gender, dtype: float64>\n"
     ]
    }
   ],
   "source": [
    "gender = file[\"Gender\"].value_counts()\n",
    "gender_percentage = file[\"Gender\"].value_counts(normalize = True)\n",
    "print(gender_percentage.round)"
   ]
  },
  {
   "cell_type": "code",
   "execution_count": 6,
   "metadata": {},
   "outputs": [
    {
     "name": "stdout",
     "output_type": "stream",
     "text": [
      "                               Percentage of Players       Total Count\n",
      "0  [[0.835897435897, 0.144871794872, 0.0192307692...  [[652, 113, 15]]\n"
     ]
    }
   ],
   "source": [
    "list_2 = [{\"Total Count\": [gender], \"Percentage of Players\": [gender_percentage]}]\n",
    "graph_2 = pd.DataFrame(list_2)\n",
    "print(graph_2)"
   ]
  },
  {
   "cell_type": "code",
   "execution_count": 7,
   "metadata": {},
   "outputs": [
    {
     "data": {
      "text/plain": [
       "Purchase ID    652\n",
       "dtype: int64"
      ]
     },
     "execution_count": 7,
     "metadata": {},
     "output_type": "execute_result"
    }
   ],
   "source": [
    "gender_ave_f = file.loc[file[\"Gender\"] == \"Female\",['Price']].mean()\n",
    "gender_total_f = file.loc[file[\"Gender\"] == \"Female\",['Price']].sum()\n",
    "gender_count_f = file.loc[file[\"Gender\"] == \"Female\",['Purchase ID']].count()\n",
    "gender_ave_m = file.loc[file[\"Gender\"] == \"Male\",['Price']].mean()\n",
    "gender_total_m = file.loc[file[\"Gender\"] == \"Male\",['Price']].sum()\n",
    "gender_count_m = file.loc[file[\"Gender\"] == \"Male\",['Purchase ID']].count()\n",
    "gender_ave_n = file.loc[file[\"Gender\"] == \"Other / Non-Disclosed\",['Price']].mean()\n",
    "gender_total_n = file.loc[file[\"Gender\"] == \"Other / Non-Disclosed\",['Price']].sum()\n",
    "gender_count_n = file.loc[file[\"Gender\"] == \"Other / Non-Disclosed\",['Purchase ID']].count()\n",
    "\n",
    "gender_count_m"
   ]
  },
  {
   "cell_type": "code",
   "execution_count": 8,
   "metadata": {},
   "outputs": [
    {
     "data": {
      "text/plain": [
       "[{'Percentage of Players': [], 'Purchase Count': [Purchase ID    113\n",
       "   dtype: int64]}]"
      ]
     },
     "execution_count": 8,
     "metadata": {},
     "output_type": "execute_result"
    }
   ],
   "source": [
    "list_3 = [{\"Purchase Count\": [gender_count_f], \"Percentage of Players\": []}]\n",
    "\n",
    "list_3"
   ]
  },
  {
   "cell_type": "code",
   "execution_count": 9,
   "metadata": {
    "collapsed": true
   },
   "outputs": [],
   "source": [
    "# bins Age\n",
    "\n",
    "bins = [0,10,15,19,25,29,35,39,50]\n",
    "\n",
    "file[\"Age\"]= pd.cut(file[\"Age\"],bins)"
   ]
  },
  {
   "cell_type": "code",
   "execution_count": 10,
   "metadata": {},
   "outputs": [
    {
     "data": {
      "text/plain": [
       "Age       Gender               \n",
       "(0, 10]   Male                      25\n",
       "          Female                     7\n",
       "(10, 15]  Male                      41\n",
       "          Female                    11\n",
       "          Other / Non-Disclosed      2\n",
       "(15, 19]  Male                      85\n",
       "          Female                    14\n",
       "          Other / Non-Disclosed      2\n",
       "(19, 25]  Male                     352\n",
       "          Female                    65\n",
       "          Other / Non-Disclosed      7\n",
       "(25, 29]  Male                      37\n",
       "          Female                     5\n",
       "(29, 35]  Male                      76\n",
       "          Female                     9\n",
       "          Other / Non-Disclosed      2\n",
       "(35, 39]  Male                      24\n",
       "          Other / Non-Disclosed      2\n",
       "          Female                     1\n",
       "(39, 50]  Male                      12\n",
       "          Female                     1\n",
       "Name: Gender, dtype: int64"
      ]
     },
     "execution_count": 10,
     "metadata": {},
     "output_type": "execute_result"
    }
   ],
   "source": [
    "# file = file.loc[:, file.columns.isin(['Gender','Age','Price'])]\n",
    "\n",
    "file.groupby('Age')['Gender'].value_counts()\n",
    "\n",
    "# file = file.loc[:, file.columns != 'Item ID']\n"
   ]
  },
  {
   "cell_type": "code",
   "execution_count": 1,
   "metadata": {},
   "outputs": [
    {
     "ename": "NameError",
     "evalue": "name 'file' is not defined",
     "output_type": "error",
     "traceback": [
      "\u001b[0;31m---------------------------------------------------------------------------\u001b[0m",
      "\u001b[0;31mNameError\u001b[0m                                 Traceback (most recent call last)",
      "\u001b[0;32m<ipython-input-1-e8ec92cd9927>\u001b[0m in \u001b[0;36m<module>\u001b[0;34m()\u001b[0m\n\u001b[0;32m----> 1\u001b[0;31m \u001b[0mfile\u001b[0m \u001b[0;34m=\u001b[0m \u001b[0mfile\u001b[0m\u001b[0;34m.\u001b[0m\u001b[0mloc\u001b[0m\u001b[0;34m[\u001b[0m\u001b[0;34m:\u001b[0m\u001b[0;34m,\u001b[0m \u001b[0mfile\u001b[0m\u001b[0;34m.\u001b[0m\u001b[0mcolumns\u001b[0m\u001b[0;34m.\u001b[0m\u001b[0misin\u001b[0m\u001b[0;34m(\u001b[0m\u001b[0;34m[\u001b[0m\u001b[0;34m'Gender'\u001b[0m\u001b[0;34m,\u001b[0m\u001b[0;34m'Age'\u001b[0m\u001b[0;34m,\u001b[0m\u001b[0;34m'Price'\u001b[0m\u001b[0;34m]\u001b[0m\u001b[0;34m)\u001b[0m\u001b[0;34m]\u001b[0m\u001b[0;34m\u001b[0m\u001b[0m\n\u001b[0m\u001b[1;32m      2\u001b[0m \u001b[0;34m\u001b[0m\u001b[0m\n\u001b[1;32m      3\u001b[0m \u001b[0;34m\u001b[0m\u001b[0m\n\u001b[1;32m      4\u001b[0m \u001b[0mfile\u001b[0m\u001b[0;34m.\u001b[0m\u001b[0mgroupby\u001b[0m\u001b[0;34m(\u001b[0m\u001b[0;34m'Age'\u001b[0m\u001b[0;34m)\u001b[0m\u001b[0;34m[\u001b[0m\u001b[0;34m'Price'\u001b[0m\u001b[0;34m]\u001b[0m\u001b[0;34m.\u001b[0m\u001b[0msum\u001b[0m\u001b[0;34m(\u001b[0m\u001b[0;34m)\u001b[0m\u001b[0;34m\u001b[0m\u001b[0m\n\u001b[1;32m      5\u001b[0m \u001b[0mfile\u001b[0m\u001b[0;34m.\u001b[0m\u001b[0mgroupby\u001b[0m\u001b[0;34m(\u001b[0m\u001b[0;34m'Age'\u001b[0m\u001b[0;34m)\u001b[0m\u001b[0;34m[\u001b[0m\u001b[0;34m'Price'\u001b[0m\u001b[0;34m]\u001b[0m\u001b[0;34m.\u001b[0m\u001b[0mmean\u001b[0m\u001b[0;34m(\u001b[0m\u001b[0;34m)\u001b[0m\u001b[0;34m\u001b[0m\u001b[0m\n",
      "\u001b[0;31mNameError\u001b[0m: name 'file' is not defined"
     ]
    }
   ],
   "source": [
    "file = file.loc[:, file.columns.isin(['Gender','Age','Price'])]\n",
    "\n",
    "\n",
    "file.groupby('Age')['Price'].sum()\n",
    "file.groupby('Age')['Price'].mean()\n",
    "count = file.groupby('Age')['Price'].count()\n",
    "file.groupby('Age')['Price'].sum() / count \n"
   ]
  },
  {
   "cell_type": "code",
   "execution_count": 19,
   "metadata": {
    "collapsed": true
   },
   "outputs": [],
   "source": [
    "\n",
    "# lol = file.stack().groupby('Age').value_counts().unstack()\n",
    "\n",
    "# file = file.loc[:, file.columns.isin(['SN','Purchase ID','Price'])]\n",
    "\n",
    "# file.sort_values('SN',ascending = False)\n",
    "\n",
    "#         good one  # lol = file['SN'].value_counts()\n",
    "\n",
    "# # file.sort_values(['SN','Price'],ascending = False).head()\n",
    "# lol\n",
    "\n",
    "# file.groupby(['SN', 'Price']).agg({'SN': 'value_counts', 'Price': 'sum'})\n",
    "# lol.crosstab(index =lol['Price'], columns =lol['SN'])"
   ]
  },
  {
   "cell_type": "code",
   "execution_count": null,
   "metadata": {
    "collapsed": true
   },
   "outputs": [],
   "source": []
  },
  {
   "cell_type": "code",
   "execution_count": null,
   "metadata": {
    "collapsed": true
   },
   "outputs": [],
   "source": []
  }
 ],
 "metadata": {
  "kernelspec": {
   "display_name": "Python 3",
   "language": "python",
   "name": "python3"
  },
  "language_info": {
   "codemirror_mode": {
    "name": "ipython",
    "version": 3
   },
   "file_extension": ".py",
   "mimetype": "text/x-python",
   "name": "python",
   "nbconvert_exporter": "python",
   "pygments_lexer": "ipython3",
   "version": "3.6.1"
  }
 },
 "nbformat": 4,
 "nbformat_minor": 2
}
